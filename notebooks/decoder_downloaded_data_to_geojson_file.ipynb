{
 "cells": [
  {
   "cell_type": "code",
   "execution_count": 39,
   "metadata": {
    "collapsed": true
   },
   "outputs": [],
   "source": [
    "%matplotlib inline"
   ]
  },
  {
   "cell_type": "code",
   "execution_count": 40,
   "metadata": {
    "collapsed": true
   },
   "outputs": [],
   "source": [
    "import urllib2\n",
    "import os\n",
    "import zipfile\n",
    "import pandas as pd\n",
    "import json\n",
    "import ast\n",
    "import numpy as np\n",
    "import matplotlib.pyplot as plt"
   ]
  },
  {
   "cell_type": "code",
   "execution_count": 2,
   "metadata": {
    "collapsed": true
   },
   "outputs": [],
   "source": [
    "# download data\n",
    "def retrieveData():\n",
    "    url = 'http://crowdcrafting.org/project/landfill/tasks/export?type=task_run&format=csv'\n",
    "    response = urllib2.urlopen(url)\n",
    "    output = open('landfill_data.zip', 'wb')\n",
    "    output.write(response.read())\n",
    "    output.close()    \n",
    "    return unzip()\n",
    "\n",
    "def unzip():\n",
    "    fh = open('landfill_data.zip', 'rb')\n",
    "    z = zipfile.ZipFile(fh)\n",
    "    for name in z.namelist():\n",
    "        outpath = \"\"\n",
    "        z.extract(name, outpath)\n",
    "    fh.close()\n",
    "    os.remove('landfill_data.zip')\n",
    "    \n",
    "    return load_data(name)"
   ]
  },
  {
   "cell_type": "code",
   "execution_count": 3,
   "metadata": {
    "collapsed": false
   },
   "outputs": [
    {
     "name": "stderr",
     "output_type": "stream",
     "text": [
      "Skipping line 642: expected 20 fields, saw 21\n",
      "\n"
     ]
    }
   ],
   "source": [
    "data = pd.read_csv('../landfill_task_run.csv', error_bad_lines=False)"
   ]
  },
  {
   "cell_type": "code",
   "execution_count": 4,
   "metadata": {
    "collapsed": false
   },
   "outputs": [
    {
     "data": {
      "text/plain": [
       "(1882, 20)"
      ]
     },
     "execution_count": 4,
     "metadata": {},
     "output_type": "execute_result"
    }
   ],
   "source": [
    "data.shape"
   ]
  },
  {
   "cell_type": "code",
   "execution_count": 23,
   "metadata": {
    "collapsed": false
   },
   "outputs": [
    {
     "data": {
      "text/plain": [
       "(748, 20)"
      ]
     },
     "execution_count": 23,
     "metadata": {},
     "output_type": "execute_result"
    }
   ],
   "source": [
    "data[data['task_runinfo__area'] != '0'].shape"
   ]
  },
  {
   "cell_type": "code",
   "execution_count": 27,
   "metadata": {
    "collapsed": false
   },
   "outputs": [
    {
     "data": {
      "text/plain": [
       "1235"
      ]
     },
     "execution_count": 27,
     "metadata": {},
     "output_type": "execute_result"
    }
   ],
   "source": [
    "len(data.groupby('task_runinfo__task_id').size())"
   ]
  },
  {
   "cell_type": "code",
   "execution_count": 21,
   "metadata": {
    "collapsed": true
   },
   "outputs": [
    {
     "data": {
      "text/plain": [
       "0        1\n",
       "1        1\n",
       "2        1\n",
       "5        1\n",
       "6        1\n",
       "7        2\n",
       "9        1\n",
       "11       1\n",
       "12       1\n",
       "14       1\n",
       "17       1\n",
       "19       1\n",
       "20       1\n",
       "21       1\n",
       "22       1\n",
       "24       1\n",
       "26       2\n",
       "28       1\n",
       "30       1\n",
       "31       1\n",
       "37       1\n",
       "38       1\n",
       "39       1\n",
       "40       1\n",
       "45       1\n",
       "46       1\n",
       "47       1\n",
       "49       1\n",
       "51       1\n",
       "53       2\n",
       "        ..\n",
       "1732     2\n",
       "1735     1\n",
       "1739     1\n",
       "1741     1\n",
       "1744     1\n",
       "1747     1\n",
       "1748     1\n",
       "1754     1\n",
       "1755     1\n",
       "1760     1\n",
       "1767     0\n",
       "1772     2\n",
       "1781     1\n",
       "1788     1\n",
       "1795     1\n",
       "1808     1\n",
       "1810     0\n",
       "1812     1\n",
       "1827     1\n",
       "1834     2\n",
       "1835     1\n",
       "1838     1\n",
       "1841    10\n",
       "1848     2\n",
       "1854     1\n",
       "1856     1\n",
       "1861     1\n",
       "1875     1\n",
       "1877     2\n",
       "1880     1\n",
       "Name: task_runinfo__area, dtype: int64"
      ]
     },
     "execution_count": 21,
     "metadata": {},
     "output_type": "execute_result"
    }
   ],
   "source": [
    "data[data['task_runinfo__area'] != '0']['task_runinfo__area'].map(lambda x: len(ast.literal_eval(x)))"
   ]
  },
  {
   "cell_type": "code",
   "execution_count": 22,
   "metadata": {
    "collapsed": false
   },
   "outputs": [
    {
     "data": {
      "text/plain": [
       "[{u'area': 145322.84045764743,\n",
       "  u'area_geometry': u'{\"type\":\"Polygon\",\"coordinates\":[[[-72.48043227249183,42.355712710567595],[-72.48279261642497,42.35647382812253],[-72.48442339950557,42.35412701938756],[-72.48418736511287,42.353619589760605],[-72.48431611114559,42.35308044129209],[-72.48502421432543,42.35266814816614],[-72.48528170639084,42.351811838417035],[-72.48457360321099,42.35084451151944],[-72.48292136245767,42.35157397252739],[-72.48133349472073,42.35365130423191],[-72.48032498413093,42.35384159072626],[-72.47972416931195,42.354206304896984],[-72.47978854232831,42.355712710567595],[-72.48043227249183,42.355712710567595]]]}',\n",
       "  u'id': u'OpenLayers_Feature_Vector_571'},\n",
       " {u'area': 104889.54808553384,\n",
       "  u'area_geometry': u'{\"type\":\"Polygon\",\"coordinates\":[[[-72.47948813491927,42.356077413879824],[-72.47871565872217,42.356822670587604],[-72.47989583068919,42.35739349953569],[-72.47912335449298,42.35866198974499],[-72.47832942062406,42.35889982880852],[-72.4778788095096,42.36008901062288],[-72.47702050262522,42.360453688537056],[-72.47601199203544,42.35793261100372],[-72.47663426452712,42.356093270497325],[-72.47794318252595,42.35534800513887],[-72.47948813491927,42.356077413879824]]]}',\n",
       "  u'id': u'OpenLayers_Feature_Vector_669'}]"
      ]
     },
     "execution_count": 22,
     "metadata": {},
     "output_type": "execute_result"
    }
   ],
   "source": [
    "ast.literal_eval(data[data['task_runinfo__area'] != '0']['task_runinfo__area'][7])"
   ]
  },
  {
   "cell_type": "code",
   "execution_count": 4,
   "metadata": {
    "collapsed": false
   },
   "outputs": [],
   "source": [
    "def create_features(data):\n",
    "    output = []\n",
    "    record = ast.literal_eval(data[0])\n",
    "\n",
    "    for i in record:\n",
    "        geometry = ast.literal_eval(i['area_geometry'])\n",
    "        for point in geometry['coordinates']:\n",
    "            result = {\n",
    "                \"type\": \"Feature\",\n",
    "                \"geometry\": geometry,\n",
    "                \"properties\": {\n",
    "                    \"area\" : i['area'], \n",
    "                    \"id\" : i['id'], \n",
    "                    \"fac_name\" : data[1],\n",
    "                    \"fac_state\" : data[2],\n",
    "                    \"fac_street\" : data[3],\n",
    "                    \"task_id\" : data[4],\n",
    "                    \"task_user_id\" : data[5],\n",
    "                    \"task_runinfo__skip\" : data[6],\n",
    "                    \"task_runinfo__certain\" : data[7],\n",
    "                    \"task_run__user_ip\" : data[8],\n",
    "                    \"task_run__id\" : data[9],\n",
    "                    \"task_run__created\" : data[10],\n",
    "                    \"task_run__finish_time\" : data[11],\n",
    "                }\n",
    "            }\n",
    "            output.append(result)\n",
    "            \n",
    "    return output                "
   ]
  },
  {
   "cell_type": "code",
   "execution_count": 352,
   "metadata": {
    "collapsed": false
   },
   "outputs": [],
   "source": [
    "def create_geojson(data):\n",
    "    #a stupid hack - zip all of these lists and pass them\n",
    "    # into the create_feature function as variable temp\n",
    "    \n",
    "    data = data[data['task_runinfo__area'] != '0']\n",
    "    \n",
    "    temp = zip(\n",
    "                list(data['task_runinfo__area']),\n",
    "                list(data['task_runinfo__Facility_Name']),\n",
    "                list(data['task_runinfo__Facility_State']),\n",
    "                list(data['task_runinfo__Facility_Street']),\n",
    "                list(data['task_run__task_id']),\n",
    "                list(data['task_run__user_id']),\n",
    "                list(data['task_runinfo__skip']),\n",
    "                list(data['task_runinfo__certain']),\n",
    "                list(data['task_run__user_ip']),\n",
    "                list(data['task_run__id']),\n",
    "                list(data['task_run__created']),\n",
    "                list(data['task_run__finish_time']),\n",
    "              )\n",
    "\n",
    "    features = map(create_features, temp)\n",
    "\n",
    "    # flatten the list\n",
    "    features = [item for sublist in features for item in sublist]\n",
    "\n",
    "    # remove entries without a geometry - no geometry causes import to fail\n",
    "    features = filter(lambda x: len(x['geometry']['coordinates'][0]) > 2, features)\n",
    "    features = filter(lambda x: x['properties']['area'] != 0, features)    \n",
    "\n",
    "    # turn to string\n",
    "    geojson = json.dumps({\n",
    "        \"type\": \"FeatureCollection\",\n",
    "        \"features\": features,\n",
    "    })\n",
    "\n",
    "    return geojson"
   ]
  },
  {
   "cell_type": "code",
   "execution_count": 353,
   "metadata": {
    "collapsed": false
   },
   "outputs": [],
   "source": [
    "geojson = create_geojson(data)"
   ]
  },
  {
   "cell_type": "code",
   "execution_count": 356,
   "metadata": {
    "collapsed": true
   },
   "outputs": [],
   "source": [
    "def writeFile(geojson):\n",
    "    print \"Writing geojson file...\"\n",
    "    outputFile = open('../landfill_geojson.geojson', 'wb')\n",
    "    outputFile.write(geojson)\n",
    "    outputFile.close()"
   ]
  },
  {
   "cell_type": "code",
   "execution_count": 357,
   "metadata": {
    "collapsed": false
   },
   "outputs": [
    {
     "name": "stdout",
     "output_type": "stream",
     "text": [
      "Writing geojson file...\n"
     ]
    }
   ],
   "source": [
    "writeFile(geojson)"
   ]
  }
 ],
 "metadata": {
  "kernelspec": {
   "display_name": "Python 2",
   "language": "python",
   "name": "python2"
  },
  "language_info": {
   "codemirror_mode": {
    "name": "ipython",
    "version": 2
   },
   "file_extension": ".py",
   "mimetype": "text/x-python",
   "name": "python",
   "nbconvert_exporter": "python",
   "pygments_lexer": "ipython2",
   "version": "2.7.10"
  }
 },
 "nbformat": 4,
 "nbformat_minor": 0
}
