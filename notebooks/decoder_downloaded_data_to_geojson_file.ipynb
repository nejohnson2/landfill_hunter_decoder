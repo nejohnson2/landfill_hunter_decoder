{
 "cells": [
  {
   "cell_type": "code",
   "execution_count": 1,
   "metadata": {
    "collapsed": true
   },
   "outputs": [],
   "source": [
    "import urllib2\n",
    "import os\n",
    "import zipfile\n",
    "import pandas as pd\n",
    "import json\n",
    "import ast\n",
    "import numpy as np"
   ]
  },
  {
   "cell_type": "code",
   "execution_count": 2,
   "metadata": {
    "collapsed": true
   },
   "outputs": [],
   "source": [
    "# download data\n",
    "def retrieveData():\n",
    "    url = 'http://crowdcrafting.org/project/landfill/tasks/export?type=task_run&format=csv'\n",
    "    response = urllib2.urlopen(url)\n",
    "    output = open('landfill_data.zip', 'wb')\n",
    "    output.write(response.read())\n",
    "    output.close()    \n",
    "    return unzip()\n",
    "\n",
    "def unzip():\n",
    "    fh = open('landfill_data.zip', 'rb')\n",
    "    z = zipfile.ZipFile(fh)\n",
    "    for name in z.namelist():\n",
    "        outpath = \"\"\n",
    "        z.extract(name, outpath)\n",
    "    fh.close()\n",
    "    os.remove('landfill_data.zip')\n",
    "    \n",
    "    return load_data(name)"
   ]
  },
  {
   "cell_type": "code",
   "execution_count": 226,
   "metadata": {
    "collapsed": false
   },
   "outputs": [
    {
     "name": "stderr",
     "output_type": "stream",
     "text": [
      "Skipping line 642: expected 20 fields, saw 21\n",
      "\n"
     ]
    }
   ],
   "source": [
    "data = pd.read_csv('../landfill_task_run.csv', error_bad_lines=False)"
   ]
  },
  {
   "cell_type": "code",
   "execution_count": 227,
   "metadata": {
    "collapsed": false
   },
   "outputs": [],
   "source": [
    "def create_features(data):\n",
    "    output = []\n",
    "    record = ast.literal_eval(data[0])\n",
    "\n",
    "    for i in record:\n",
    "        geometry = ast.literal_eval(i['area_geometry'])\n",
    "        for point in geometry['coordinates']:\n",
    "            result = {\n",
    "                \"type\": \"Feature\",\n",
    "                \"geometry\": geometry,\n",
    "                \"properties\": {\n",
    "                    \"area\" : i['area'], \n",
    "                    \"id\" : i['id'], \n",
    "                    \"fac_name\" : data[1],\n",
    "                    \"fac_state\" : data[2],\n",
    "                    \"fac_street\" : data[3],\n",
    "                    \"task_id\" : data[4],\n",
    "                    \"task_user_id\" : data[5],\n",
    "                    \"task_runinfo__skip\" : data[6],\n",
    "                    \"task_runinfo__certain\" : data[7],\n",
    "                    \"task_run__user_ip\" : data[8],\n",
    "                    \"task_run__id\" : data[9],\n",
    "                    \"task_run__created\" : data[10],\n",
    "                    \"task_run__finish_time\" : data[11],\n",
    "                }\n",
    "            }\n",
    "            output.append(result)\n",
    "            \n",
    "    return output                "
   ]
  },
  {
   "cell_type": "code",
   "execution_count": 230,
   "metadata": {
    "collapsed": false
   },
   "outputs": [],
   "source": [
    "def create_geojson(data):\n",
    "    #a stupid hack - zip all of these lists and pass them\n",
    "    # into the create_feature function as variable temp\n",
    "    \n",
    "    data = data[data['task_runinfo__area'] != '0']\n",
    "    \n",
    "    temp = zip(\n",
    "                list(data['task_runinfo__area']),\n",
    "                list(data['task_runinfo__Facility_Name']),\n",
    "                list(data['task_runinfo__Facility_State']),\n",
    "                list(data['task_runinfo__Facility_Street']),\n",
    "                list(data['task_run__task_id']),\n",
    "                list(data['task_run__user_id']),\n",
    "                list(data['task_runinfo__skip']),\n",
    "                list(data['task_runinfo__certain']),\n",
    "                list(data['task_run__user_ip']),\n",
    "                list(data['task_run__id']),\n",
    "                list(data['task_run__created']),\n",
    "                list(data['task_run__finish_time']),\n",
    "              )\n",
    "\n",
    "    features = map(create_features, temp)\n",
    "\n",
    "    # flatten the list\n",
    "    features = [item for sublist in features for item in sublist]\n",
    "\n",
    "    # remove entries without a geometry - no geometry causes import to fail\n",
    "    for index,feature in enumerate(features):\n",
    "        if len(feature['geometry']['coordinates'][0]) < 3:\n",
    "            del features[index]\n",
    "        if feature['properties']['area'] == 0:\n",
    "            del features[index]\n",
    "\n",
    "    geojson = json.dumps({\n",
    "        \"type\": \"FeatureCollection\",\n",
    "        \"features\": features,\n",
    "    })\n",
    "    \n",
    "    return geojson"
   ]
  },
  {
   "cell_type": "code",
   "execution_count": 231,
   "metadata": {
    "collapsed": false
   },
   "outputs": [],
   "source": [
    "geojson = create_geojson(data)"
   ]
  },
  {
   "cell_type": "code",
   "execution_count": 232,
   "metadata": {
    "collapsed": false
   },
   "outputs": [
    {
     "data": {
      "text/plain": [
       "954"
      ]
     },
     "execution_count": 232,
     "metadata": {},
     "output_type": "execute_result"
    }
   ],
   "source": [
    "len(features)"
   ]
  },
  {
   "cell_type": "code",
   "execution_count": 59,
   "metadata": {
    "collapsed": true
   },
   "outputs": [],
   "source": [
    "def writeFile(geojson):\n",
    "    print \"Writing geojson file...\"\n",
    "    outputFile = open('../landfill_geojson.geojson', 'wb')\n",
    "    outputFile.write(geojson)\n",
    "    outputFile.close()"
   ]
  },
  {
   "cell_type": "code",
   "execution_count": 233,
   "metadata": {
    "collapsed": false
   },
   "outputs": [
    {
     "name": "stdout",
     "output_type": "stream",
     "text": [
      "Writing geojson file...\n"
     ]
    }
   ],
   "source": [
    "writeFile(geojson)"
   ]
  }
 ],
 "metadata": {
  "kernelspec": {
   "display_name": "Python 2",
   "language": "python",
   "name": "python2"
  },
  "language_info": {
   "codemirror_mode": {
    "name": "ipython",
    "version": 2
   },
   "file_extension": ".py",
   "mimetype": "text/x-python",
   "name": "python",
   "nbconvert_exporter": "python",
   "pygments_lexer": "ipython2",
   "version": "2.7.10"
  }
 },
 "nbformat": 4,
 "nbformat_minor": 0
}
