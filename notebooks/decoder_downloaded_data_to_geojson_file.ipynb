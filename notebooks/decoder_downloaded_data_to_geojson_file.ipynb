{
 "cells": [
  {
   "cell_type": "code",
   "execution_count": 3,
   "metadata": {
    "collapsed": true
   },
   "outputs": [],
   "source": [
    "import urllib2\n",
    "import os\n",
    "import zipfile\n",
    "import pandas as pd\n",
    "import json\n",
    "import ast\n",
    "import numpy as np"
   ]
  },
  {
   "cell_type": "code",
   "execution_count": null,
   "metadata": {
    "collapsed": true
   },
   "outputs": [],
   "source": [
    "# download data\n",
    "def retrieveData():\n",
    "    url = 'http://crowdcrafting.org/project/landfill/tasks/export?type=task_run&format=csv'\n",
    "    response = urllib2.urlopen(url)\n",
    "    output = open('landfill_data.zip', 'wb')\n",
    "    output.write(response.read())\n",
    "    output.close()    \n",
    "    return unzip()\n",
    "\n",
    "def unzip():\n",
    "    fh = open('landfill_data.zip', 'rb')\n",
    "    z = zipfile.ZipFile(fh)\n",
    "    for name in z.namelist():\n",
    "        outpath = \"\"\n",
    "        z.extract(name, outpath)\n",
    "    fh.close()\n",
    "    os.remove('landfill_data.zip')\n",
    "    \n",
    "    return load_data(name)"
   ]
  },
  {
   "cell_type": "code",
   "execution_count": 91,
   "metadata": {
    "collapsed": false
   },
   "outputs": [
    {
     "name": "stderr",
     "output_type": "stream",
     "text": [
      "Skipping line 642: expected 20 fields, saw 21\n",
      "\n"
     ]
    }
   ],
   "source": [
    "data = pd.read_csv('../landfill_task_run.csv', error_bad_lines=False)"
   ]
  },
  {
   "cell_type": "code",
   "execution_count": 92,
   "metadata": {
    "collapsed": false
   },
   "outputs": [
    {
     "data": {
      "text/plain": [
       "(1571, 20)"
      ]
     },
     "execution_count": 92,
     "metadata": {},
     "output_type": "execute_result"
    }
   ],
   "source": [
    "data.shape"
   ]
  },
  {
   "cell_type": "code",
   "execution_count": 93,
   "metadata": {
    "collapsed": true
   },
   "outputs": [],
   "source": [
    "# do not export things without geometries\n",
    "d = data[data['task_runinfo__area'] != '0']"
   ]
  },
  {
   "cell_type": "code",
   "execution_count": 94,
   "metadata": {
    "collapsed": false
   },
   "outputs": [
    {
     "data": {
      "text/plain": [
       "(661, 20)"
      ]
     },
     "execution_count": 94,
     "metadata": {},
     "output_type": "execute_result"
    }
   ],
   "source": [
    "d.shape"
   ]
  },
  {
   "cell_type": "code",
   "execution_count": 95,
   "metadata": {
    "collapsed": false
   },
   "outputs": [],
   "source": [
    "def create_features(data):\n",
    "    record = ast.literal_eval(data[0])\n",
    "    for i in record:\n",
    "        geometry = ast.literal_eval(i['area_geometry'])\n",
    "        for point in geometry['coordinates']:\n",
    "            result = {\n",
    "                \"type\": \"Feature\",\n",
    "                \"geometry\": geometry,\n",
    "                \"properties\": {\n",
    "                    \"area\" : i['area'], \n",
    "                    \"id\" : i['id'], \n",
    "                    \"fac_name\" : data[1],\n",
    "                    \"fac_state\" : data[2],\n",
    "                    \"fac_street\" : data[3],\n",
    "                    \"task_id\" : data[4],\n",
    "                    \"task_user_id\" : data[5],\n",
    "                    \"task_runinfo__skip\" : data[6],\n",
    "                }\n",
    "            }\n",
    "            return result                "
   ]
  },
  {
   "cell_type": "code",
   "execution_count": 103,
   "metadata": {
    "collapsed": false
   },
   "outputs": [],
   "source": [
    "#a stupid hack - zip all of these lists and pass them\n",
    "# into the create_feature function as variable temp\n",
    "temp = zip(\n",
    "            list(d['task_runinfo__area']),\n",
    "            list(d['task_runinfo__Facility_Name']),\n",
    "            list(d['task_runinfo__Facility_State']),\n",
    "            list(d['task_runinfo__Facility_Street']),\n",
    "            list(d['task_run__task_id']),\n",
    "            list(d['task_run__user_id']),\n",
    "            list(d['task_runinfo__skip']),    \n",
    "          )\n",
    "\n",
    "features = list(map(create_features, temp))\n",
    "\n",
    "for index,feature in enumerate(features):\n",
    "    if feature['properties']['area'] == 0:\n",
    "        del features[index]\n",
    "        \n",
    "geojson = json.dumps({\n",
    "    \"type\": \"FeatureCollection\",\n",
    "    \"features\": features,\n",
    "})"
   ]
  },
  {
   "cell_type": "code",
   "execution_count": 104,
   "metadata": {
    "collapsed": false
   },
   "outputs": [
    {
     "data": {
      "text/plain": [
       "658"
      ]
     },
     "execution_count": 104,
     "metadata": {},
     "output_type": "execute_result"
    }
   ],
   "source": [
    "len(features)"
   ]
  },
  {
   "cell_type": "code",
   "execution_count": 99,
   "metadata": {
    "collapsed": false
   },
   "outputs": [],
   "source": [
    "for i,j in enumerate(features):\n",
    "    if j['properties']['area'] == 0:\n",
    "        del features[i]"
   ]
  },
  {
   "cell_type": "code",
   "execution_count": 100,
   "metadata": {
    "collapsed": false
   },
   "outputs": [
    {
     "data": {
      "text/plain": [
       "658"
      ]
     },
     "execution_count": 100,
     "metadata": {},
     "output_type": "execute_result"
    }
   ],
   "source": [
    "len(features)"
   ]
  },
  {
   "cell_type": "code",
   "execution_count": 101,
   "metadata": {
    "collapsed": true
   },
   "outputs": [],
   "source": [
    "def writeFile(geojson):\n",
    "    print \"Writing geojson file...\"\n",
    "    outputFile = open('../landfill_geojson.geojson', 'wb')\n",
    "    outputFile.write(geojson)\n",
    "    outputFile.close()"
   ]
  },
  {
   "cell_type": "code",
   "execution_count": 105,
   "metadata": {
    "collapsed": false
   },
   "outputs": [
    {
     "name": "stdout",
     "output_type": "stream",
     "text": [
      "Writing geojson file...\n"
     ]
    }
   ],
   "source": [
    "writeFile(geojson)"
   ]
  }
 ],
 "metadata": {
  "kernelspec": {
   "display_name": "Python 2",
   "language": "python",
   "name": "python2"
  },
  "language_info": {
   "codemirror_mode": {
    "name": "ipython",
    "version": 2
   },
   "file_extension": ".py",
   "mimetype": "text/x-python",
   "name": "python",
   "nbconvert_exporter": "python",
   "pygments_lexer": "ipython2",
   "version": "2.7.10"
  }
 },
 "nbformat": 4,
 "nbformat_minor": 0
}
