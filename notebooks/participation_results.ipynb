{
 "cells": [
  {
   "cell_type": "code",
   "execution_count": 1,
   "metadata": {
    "collapsed": true
   },
   "outputs": [],
   "source": [
    "%matplotlib inline"
   ]
  },
  {
   "cell_type": "code",
   "execution_count": 282,
   "metadata": {
    "collapsed": true
   },
   "outputs": [],
   "source": [
    "import geopandas as gp\n",
    "import pandas as pd\n",
    "import matplotlib.pyplot as plt\n",
    "import numpy as np\n",
    "\n",
    "plt.rcParams['figure.figsize'] = 12, 8"
   ]
  },
  {
   "cell_type": "code",
   "execution_count": 240,
   "metadata": {
    "collapsed": true
   },
   "outputs": [],
   "source": [
    "df = gp.read_file('../landfill_geojson.geojson')"
   ]
  },
  {
   "cell_type": "code",
   "execution_count": 241,
   "metadata": {
    "collapsed": false
   },
   "outputs": [
    {
     "data": {
      "text/html": [
       "<div>\n",
       "<table border=\"1\" class=\"dataframe\">\n",
       "  <thead>\n",
       "    <tr style=\"text-align: right;\">\n",
       "      <th></th>\n",
       "      <th>area</th>\n",
       "      <th>fac_name</th>\n",
       "      <th>fac_state</th>\n",
       "      <th>fac_street</th>\n",
       "      <th>geometry</th>\n",
       "      <th>id</th>\n",
       "      <th>task_id</th>\n",
       "      <th>task_run__created</th>\n",
       "      <th>task_run__finish_time</th>\n",
       "      <th>task_run__id</th>\n",
       "      <th>task_run__user_ip</th>\n",
       "      <th>task_runinfo__certain</th>\n",
       "      <th>task_runinfo__skip</th>\n",
       "      <th>task_user_id</th>\n",
       "    </tr>\n",
       "  </thead>\n",
       "  <tbody>\n",
       "    <tr>\n",
       "      <th>0</th>\n",
       "      <td>74336.879239</td>\n",
       "      <td>AMERICAN DISPOSAL INC</td>\n",
       "      <td>RI</td>\n",
       "      <td>23 GREEN HILL RD</td>\n",
       "      <td>POLYGON ((-71.52917097350966 41.79511484405755...</td>\n",
       "      <td>OpenLayers_Feature_Vector_340</td>\n",
       "      <td>501701</td>\n",
       "      <td>2014-04-11T18:02:24.061996</td>\n",
       "      <td>2014-04-11T18:02:24.062013</td>\n",
       "      <td>629898</td>\n",
       "      <td>None</td>\n",
       "      <td>0</td>\n",
       "      <td>0</td>\n",
       "      <td>4038</td>\n",
       "    </tr>\n",
       "    <tr>\n",
       "      <th>1</th>\n",
       "      <td>8977.979795</td>\n",
       "      <td>AMERICAN DISPOSAL INC</td>\n",
       "      <td>RI</td>\n",
       "      <td>23 GREEN HILL RD</td>\n",
       "      <td>POLYGON ((-71.5351442529862 41.79629064209585,...</td>\n",
       "      <td>OpenLayers_Feature_Vector_333</td>\n",
       "      <td>501701</td>\n",
       "      <td>2014-04-11T18:02:56.660754</td>\n",
       "      <td>2014-04-11T18:02:56.660769</td>\n",
       "      <td>629899</td>\n",
       "      <td>216.165.95.69</td>\n",
       "      <td>-1</td>\n",
       "      <td>0</td>\n",
       "      <td>None</td>\n",
       "    </tr>\n",
       "    <tr>\n",
       "      <th>2</th>\n",
       "      <td>1275812.214490</td>\n",
       "      <td>AMERICAN DISPOSAL INC</td>\n",
       "      <td>RI</td>\n",
       "      <td>23 GREEN HILL RD</td>\n",
       "      <td>POLYGON ((-71.54515693923918 41.80168943778234...</td>\n",
       "      <td>OpenLayers_Feature_Vector_316</td>\n",
       "      <td>501701</td>\n",
       "      <td>2014-04-11T18:03:09.583790</td>\n",
       "      <td>2014-04-11T18:03:09.583808</td>\n",
       "      <td>629900</td>\n",
       "      <td>None</td>\n",
       "      <td>1</td>\n",
       "      <td>0</td>\n",
       "      <td>5</td>\n",
       "    </tr>\n",
       "    <tr>\n",
       "      <th>3</th>\n",
       "      <td>300607.715762</td>\n",
       "      <td>ASTI WASTE SYSTEMS</td>\n",
       "      <td>CT</td>\n",
       "      <td>182-2 DANBURY RD</td>\n",
       "      <td>POLYGON ((-73.42464753303524 41.5462933224311,...</td>\n",
       "      <td>OpenLayers_Feature_Vector_735</td>\n",
       "      <td>501703</td>\n",
       "      <td>2014-04-11T18:03:58.458460</td>\n",
       "      <td>2014-04-11T18:03:58.458477</td>\n",
       "      <td>629903</td>\n",
       "      <td>216.165.95.69</td>\n",
       "      <td>-1</td>\n",
       "      <td>0</td>\n",
       "      <td>None</td>\n",
       "    </tr>\n",
       "    <tr>\n",
       "      <th>4</th>\n",
       "      <td>1114961.938569</td>\n",
       "      <td>AMERICAN DISPOSAL INC</td>\n",
       "      <td>RI</td>\n",
       "      <td>23 GREEN HILL RD</td>\n",
       "      <td>POLYGON ((-71.5342107371843 41.81284982596986,...</td>\n",
       "      <td>OpenLayers_Feature_Vector_521</td>\n",
       "      <td>501701</td>\n",
       "      <td>2014-04-11T18:03:58.556272</td>\n",
       "      <td>2014-04-11T18:03:58.556288</td>\n",
       "      <td>629904</td>\n",
       "      <td>216.165.95.70</td>\n",
       "      <td>-1</td>\n",
       "      <td>0</td>\n",
       "      <td>None</td>\n",
       "    </tr>\n",
       "  </tbody>\n",
       "</table>\n",
       "</div>"
      ],
      "text/plain": [
       "             area               fac_name fac_state        fac_street  \\\n",
       "0    74336.879239  AMERICAN DISPOSAL INC        RI  23 GREEN HILL RD   \n",
       "1     8977.979795  AMERICAN DISPOSAL INC        RI  23 GREEN HILL RD   \n",
       "2  1275812.214490  AMERICAN DISPOSAL INC        RI  23 GREEN HILL RD   \n",
       "3   300607.715762     ASTI WASTE SYSTEMS        CT  182-2 DANBURY RD   \n",
       "4  1114961.938569  AMERICAN DISPOSAL INC        RI  23 GREEN HILL RD   \n",
       "\n",
       "                                            geometry  \\\n",
       "0  POLYGON ((-71.52917097350966 41.79511484405755...   \n",
       "1  POLYGON ((-71.5351442529862 41.79629064209585,...   \n",
       "2  POLYGON ((-71.54515693923918 41.80168943778234...   \n",
       "3  POLYGON ((-73.42464753303524 41.5462933224311,...   \n",
       "4  POLYGON ((-71.5342107371843 41.81284982596986,...   \n",
       "\n",
       "                              id  task_id           task_run__created  \\\n",
       "0  OpenLayers_Feature_Vector_340   501701  2014-04-11T18:02:24.061996   \n",
       "1  OpenLayers_Feature_Vector_333   501701  2014-04-11T18:02:56.660754   \n",
       "2  OpenLayers_Feature_Vector_316   501701  2014-04-11T18:03:09.583790   \n",
       "3  OpenLayers_Feature_Vector_735   501703  2014-04-11T18:03:58.458460   \n",
       "4  OpenLayers_Feature_Vector_521   501701  2014-04-11T18:03:58.556272   \n",
       "\n",
       "        task_run__finish_time  task_run__id task_run__user_ip  \\\n",
       "0  2014-04-11T18:02:24.062013        629898              None   \n",
       "1  2014-04-11T18:02:56.660769        629899     216.165.95.69   \n",
       "2  2014-04-11T18:03:09.583808        629900              None   \n",
       "3  2014-04-11T18:03:58.458477        629903     216.165.95.69   \n",
       "4  2014-04-11T18:03:58.556288        629904     216.165.95.70   \n",
       "\n",
       "   task_runinfo__certain  task_runinfo__skip task_user_id  \n",
       "0                      0                   0         4038  \n",
       "1                     -1                   0         None  \n",
       "2                      1                   0            5  \n",
       "3                     -1                   0         None  \n",
       "4                     -1                   0         None  "
      ]
     },
     "execution_count": 241,
     "metadata": {},
     "output_type": "execute_result"
    }
   ],
   "source": [
    "df.head()"
   ]
  },
  {
   "cell_type": "code",
   "execution_count": 242,
   "metadata": {
    "collapsed": false
   },
   "outputs": [
    {
     "data": {
      "text/plain": [
       "(1024, 14)"
      ]
     },
     "execution_count": 242,
     "metadata": {},
     "output_type": "execute_result"
    }
   ],
   "source": [
    "df.shape"
   ]
  },
  {
   "cell_type": "code",
   "execution_count": 243,
   "metadata": {
    "collapsed": false
   },
   "outputs": [],
   "source": [
    "ip_users = df['task_run__user_ip'].value_counts()[1:]"
   ]
  },
  {
   "cell_type": "code",
   "execution_count": 244,
   "metadata": {
    "collapsed": false
   },
   "outputs": [],
   "source": [
    "id_users = df['task_user_id'].value_counts().drop('None')"
   ]
  },
  {
   "cell_type": "code",
   "execution_count": 267,
   "metadata": {
    "collapsed": false
   },
   "outputs": [
    {
     "data": {
      "text/plain": [
       "0    530\n",
       "1     47\n",
       "2     37\n",
       "3     30\n",
       "4     24\n",
       "dtype: int64"
      ]
     },
     "execution_count": 267,
     "metadata": {},
     "output_type": "execute_result"
    }
   ],
   "source": [
    "users.head()"
   ]
  },
  {
   "cell_type": "code",
   "execution_count": 279,
   "metadata": {
    "collapsed": true
   },
   "outputs": [],
   "source": [
    "users = pd.concat([ip_users, id_users])\n",
    "users = users.order(ascending=False)#.plot()\n",
    "users.reset_index(drop=True, inplace=True)"
   ]
  },
  {
   "cell_type": "code",
   "execution_count": 301,
   "metadata": {
    "collapsed": false
   },
   "outputs": [],
   "source": [
    "x, y = np.histogram(users, bins=100)"
   ]
  },
  {
   "cell_type": "code",
   "execution_count": 294,
   "metadata": {
    "collapsed": false
   },
   "outputs": [
    {
     "data": {
      "text/plain": [
       "(array([76,  7,  3,  1,  1,  0,  0,  0,  0,  0,  0,  0,  0,  0,  0,  0,  0,\n",
       "         0,  0,  0,  0,  0,  0,  0,  0,  0,  0,  0,  0,  0,  0,  0,  0,  0,\n",
       "         0,  0,  0,  0,  0,  0,  0,  0,  0,  0,  0,  0,  0,  0,  0,  1]),\n",
       " array([   1.  ,   11.58,   22.16,   32.74,   43.32,   53.9 ,   64.48,\n",
       "          75.06,   85.64,   96.22,  106.8 ,  117.38,  127.96,  138.54,\n",
       "         149.12,  159.7 ,  170.28,  180.86,  191.44,  202.02,  212.6 ,\n",
       "         223.18,  233.76,  244.34,  254.92,  265.5 ,  276.08,  286.66,\n",
       "         297.24,  307.82,  318.4 ,  328.98,  339.56,  350.14,  360.72,\n",
       "         371.3 ,  381.88,  392.46,  403.04,  413.62,  424.2 ,  434.78,\n",
       "         445.36,  455.94,  466.52,  477.1 ,  487.68,  498.26,  508.84,\n",
       "         519.42,  530.  ]))"
      ]
     },
     "execution_count": 294,
     "metadata": {},
     "output_type": "execute_result"
    }
   ],
   "source": [
    "x,y"
   ]
  },
  {
   "cell_type": "code",
   "execution_count": 305,
   "metadata": {
    "collapsed": false
   },
   "outputs": [
    {
     "data": {
      "text/plain": [
       "(0, 50)"
      ]
     },
     "execution_count": 305,
     "metadata": {},
     "output_type": "execute_result"
    },
    {
     "data": {
      "image/png": "[encoded data removed]",
      "text/plain": [
       "<matplotlib.figure.Figure at 0x11c36ab10>"
      ]
     },
     "metadata": {},
     "output_type": "display_data"
    }
   ],
   "source": [
    "plt.plot(np.log(y[1:]), np.log(x))\n",
    "plt.xlim(0,50)"
   ]
  },
  {
   "cell_type": "code",
   "execution_count": 307,
   "metadata": {
    "collapsed": false
   },
   "outputs": [
    {
     "data": {
      "text/plain": [
       "1005.0"
      ]
     },
     "execution_count": 307,
     "metadata": {},
     "output_type": "execute_result"
    }
   ],
   "source": [
    "np.sqrt(1010025)"
   ]
  },
  {
   "cell_type": "code",
   "execution_count": 310,
   "metadata": {
    "collapsed": false
   },
   "outputs": [
    {
     "data": {
      "text/plain": [
       "30398.40509869635"
      ]
     },
     "execution_count": 310,
     "metadata": {},
     "output_type": "execute_result"
    }
   ],
   "source": [
    "(5300004 ** (1. / 3))**2"
   ]
  },
  {
   "cell_type": "code",
   "execution_count": 313,
   "metadata": {
    "collapsed": false
   },
   "outputs": [
    {
     "data": {
      "text/plain": [
       "2641.62679430354"
      ]
     },
     "execution_count": 313,
     "metadata": {},
     "output_type": "execute_result"
    }
   ],
   "source": [
    "(18433779281 ** (1./3))"
   ]
  },
  {
   "cell_type": "code",
   "execution_count": 278,
   "metadata": {
    "collapsed": false
   },
   "outputs": [
    {
     "data": {
      "text/plain": [
       "<matplotlib.text.Text at 0x11c546310>"
      ]
     },
     "execution_count": 278,
     "metadata": {},
     "output_type": "execute_result"
    },
    {
     "data": {
      "image/png": "[encoded data removed]",
      "text/plain": [
       "<matplotlib.figure.Figure at 0x11c23e690>"
      ]
     },
     "metadata": {},
     "output_type": "display_data"
    }
   ],
   "source": [
    "users[1:].plot(kind='hist', bins=30, logx=False, logy=False)\n",
    "plt.grid()\n",
    "plt.xlabel('')\n",
    "plt.ylabel('Number of Responses')\n",
    "#.order(ascending=True).plot(logy=True)"
   ]
  },
  {
   "cell_type": "code",
   "execution_count": 110,
   "metadata": {
    "collapsed": false
   },
   "outputs": [],
   "source": [
    "ip_d_mean = df.groupby('task_run__user_ip')['duration'].mean()\n",
    "id_d_mean = df.groupby('task_user_id')['duration'].mean()"
   ]
  },
  {
   "cell_type": "code",
   "execution_count": 113,
   "metadata": {
    "collapsed": false
   },
   "outputs": [
    {
     "data": {
      "text/plain": [
       "52.483467179876641"
      ]
     },
     "execution_count": 113,
     "metadata": {},
     "output_type": "execute_result"
    }
   ],
   "source": [
    "pd.concat([ip_d_mean, id_d_mean])"
   ]
  },
  {
   "cell_type": "code",
   "execution_count": 320,
   "metadata": {
    "collapsed": false
   },
   "outputs": [
    {
     "data": {
      "text/plain": [
       "1024"
      ]
     },
     "execution_count": 320,
     "metadata": {},
     "output_type": "execute_result"
    }
   ],
   "source": [
    "df['task_run__user_ip'].value_counts().sum()"
   ]
  },
  {
   "cell_type": "code",
   "execution_count": 318,
   "metadata": {
    "collapsed": false
   },
   "outputs": [
    {
     "data": {
      "text/plain": [
       "<matplotlib.axes._subplots.AxesSubplot at 0x11e168ed0>"
      ]
     },
     "execution_count": 318,
     "metadata": {},
     "output_type": "execute_result"
    },
    {
     "data": {
      "image/png": "[encoded data removed]",
      "text/plain": [
       "<matplotlib.figure.Figure at 0x11de222d0>"
      ]
     },
     "metadata": {},
     "output_type": "display_data"
    }
   ],
   "source": [
    "fig, axes = plt.subplots(1)\n",
    "(df['task_run__user_ip'].value_counts()[1:]).plot(kind='bar', ax=axes)\n"
   ]
  },
  {
   "cell_type": "code",
   "execution_count": 49,
   "metadata": {
    "collapsed": false
   },
   "outputs": [
    {
     "data": {
      "text/plain": [
       "1024"
      ]
     },
     "execution_count": 49,
     "metadata": {},
     "output_type": "execute_result"
    }
   ],
   "source": [
    "len(df)"
   ]
  },
  {
   "cell_type": "code",
   "execution_count": 18,
   "metadata": {
    "collapsed": false
   },
   "outputs": [
    {
     "data": {
      "text/html": [
       "<div>\n",
       "<table border=\"1\" class=\"dataframe\">\n",
       "  <thead>\n",
       "    <tr style=\"text-align: right;\">\n",
       "      <th></th>\n",
       "      <th>area</th>\n",
       "      <th>fac_name</th>\n",
       "      <th>fac_state</th>\n",
       "      <th>fac_street</th>\n",
       "      <th>geometry</th>\n",
       "      <th>id</th>\n",
       "      <th>task_id</th>\n",
       "      <th>task_run__created</th>\n",
       "      <th>task_run__finish_time</th>\n",
       "      <th>task_run__id</th>\n",
       "      <th>task_run__user_ip</th>\n",
       "      <th>task_runinfo__certain</th>\n",
       "      <th>task_runinfo__skip</th>\n",
       "      <th>task_user_id</th>\n",
       "    </tr>\n",
       "  </thead>\n",
       "  <tbody>\n",
       "    <tr>\n",
       "      <th>0</th>\n",
       "      <td>74336.879239</td>\n",
       "      <td>AMERICAN DISPOSAL INC</td>\n",
       "      <td>RI</td>\n",
       "      <td>23 GREEN HILL RD</td>\n",
       "      <td>POLYGON ((-71.52917097350966 41.79511484405755...</td>\n",
       "      <td>OpenLayers_Feature_Vector_340</td>\n",
       "      <td>501701</td>\n",
       "      <td>2014-04-11T18:02:24.061996</td>\n",
       "      <td>2014-04-11T18:02:24.062013</td>\n",
       "      <td>629898</td>\n",
       "      <td>None</td>\n",
       "      <td>0</td>\n",
       "      <td>0</td>\n",
       "      <td>4038</td>\n",
       "    </tr>\n",
       "    <tr>\n",
       "      <th>1</th>\n",
       "      <td>8977.979795</td>\n",
       "      <td>AMERICAN DISPOSAL INC</td>\n",
       "      <td>RI</td>\n",
       "      <td>23 GREEN HILL RD</td>\n",
       "      <td>POLYGON ((-71.5351442529862 41.79629064209585,...</td>\n",
       "      <td>OpenLayers_Feature_Vector_333</td>\n",
       "      <td>501701</td>\n",
       "      <td>2014-04-11T18:02:56.660754</td>\n",
       "      <td>2014-04-11T18:02:56.660769</td>\n",
       "      <td>629899</td>\n",
       "      <td>216.165.95.69</td>\n",
       "      <td>-1</td>\n",
       "      <td>0</td>\n",
       "      <td>None</td>\n",
       "    </tr>\n",
       "    <tr>\n",
       "      <th>2</th>\n",
       "      <td>1275812.214490</td>\n",
       "      <td>AMERICAN DISPOSAL INC</td>\n",
       "      <td>RI</td>\n",
       "      <td>23 GREEN HILL RD</td>\n",
       "      <td>POLYGON ((-71.54515693923918 41.80168943778234...</td>\n",
       "      <td>OpenLayers_Feature_Vector_316</td>\n",
       "      <td>501701</td>\n",
       "      <td>2014-04-11T18:03:09.583790</td>\n",
       "      <td>2014-04-11T18:03:09.583808</td>\n",
       "      <td>629900</td>\n",
       "      <td>None</td>\n",
       "      <td>1</td>\n",
       "      <td>0</td>\n",
       "      <td>5</td>\n",
       "    </tr>\n",
       "    <tr>\n",
       "      <th>3</th>\n",
       "      <td>300607.715762</td>\n",
       "      <td>ASTI WASTE SYSTEMS</td>\n",
       "      <td>CT</td>\n",
       "      <td>182-2 DANBURY RD</td>\n",
       "      <td>POLYGON ((-73.42464753303524 41.5462933224311,...</td>\n",
       "      <td>OpenLayers_Feature_Vector_735</td>\n",
       "      <td>501703</td>\n",
       "      <td>2014-04-11T18:03:58.458460</td>\n",
       "      <td>2014-04-11T18:03:58.458477</td>\n",
       "      <td>629903</td>\n",
       "      <td>216.165.95.69</td>\n",
       "      <td>-1</td>\n",
       "      <td>0</td>\n",
       "      <td>None</td>\n",
       "    </tr>\n",
       "    <tr>\n",
       "      <th>4</th>\n",
       "      <td>1114961.938569</td>\n",
       "      <td>AMERICAN DISPOSAL INC</td>\n",
       "      <td>RI</td>\n",
       "      <td>23 GREEN HILL RD</td>\n",
       "      <td>POLYGON ((-71.5342107371843 41.81284982596986,...</td>\n",
       "      <td>OpenLayers_Feature_Vector_521</td>\n",
       "      <td>501701</td>\n",
       "      <td>2014-04-11T18:03:58.556272</td>\n",
       "      <td>2014-04-11T18:03:58.556288</td>\n",
       "      <td>629904</td>\n",
       "      <td>216.165.95.70</td>\n",
       "      <td>-1</td>\n",
       "      <td>0</td>\n",
       "      <td>None</td>\n",
       "    </tr>\n",
       "  </tbody>\n",
       "</table>\n",
       "</div>"
      ],
      "text/plain": [
       "             area               fac_name fac_state        fac_street  \\\n",
       "0    74336.879239  AMERICAN DISPOSAL INC        RI  23 GREEN HILL RD   \n",
       "1     8977.979795  AMERICAN DISPOSAL INC        RI  23 GREEN HILL RD   \n",
       "2  1275812.214490  AMERICAN DISPOSAL INC        RI  23 GREEN HILL RD   \n",
       "3   300607.715762     ASTI WASTE SYSTEMS        CT  182-2 DANBURY RD   \n",
       "4  1114961.938569  AMERICAN DISPOSAL INC        RI  23 GREEN HILL RD   \n",
       "\n",
       "                                            geometry  \\\n",
       "0  POLYGON ((-71.52917097350966 41.79511484405755...   \n",
       "1  POLYGON ((-71.5351442529862 41.79629064209585,...   \n",
       "2  POLYGON ((-71.54515693923918 41.80168943778234...   \n",
       "3  POLYGON ((-73.42464753303524 41.5462933224311,...   \n",
       "4  POLYGON ((-71.5342107371843 41.81284982596986,...   \n",
       "\n",
       "                              id  task_id           task_run__created  \\\n",
       "0  OpenLayers_Feature_Vector_340   501701  2014-04-11T18:02:24.061996   \n",
       "1  OpenLayers_Feature_Vector_333   501701  2014-04-11T18:02:56.660754   \n",
       "2  OpenLayers_Feature_Vector_316   501701  2014-04-11T18:03:09.583790   \n",
       "3  OpenLayers_Feature_Vector_735   501703  2014-04-11T18:03:58.458460   \n",
       "4  OpenLayers_Feature_Vector_521   501701  2014-04-11T18:03:58.556272   \n",
       "\n",
       "        task_run__finish_time  task_run__id task_run__user_ip  \\\n",
       "0  2014-04-11T18:02:24.062013        629898              None   \n",
       "1  2014-04-11T18:02:56.660769        629899     216.165.95.69   \n",
       "2  2014-04-11T18:03:09.583808        629900              None   \n",
       "3  2014-04-11T18:03:58.458477        629903     216.165.95.69   \n",
       "4  2014-04-11T18:03:58.556288        629904     216.165.95.70   \n",
       "\n",
       "   task_runinfo__certain  task_runinfo__skip task_user_id  \n",
       "0                      0                   0         4038  \n",
       "1                     -1                   0         None  \n",
       "2                      1                   0            5  \n",
       "3                     -1                   0         None  \n",
       "4                     -1                   0         None  "
      ]
     },
     "execution_count": 18,
     "metadata": {},
     "output_type": "execute_result"
    }
   ],
   "source": [
    "df.head()"
   ]
  },
  {
   "cell_type": "code",
   "execution_count": 98,
   "metadata": {
    "collapsed": false
   },
   "outputs": [
    {
     "data": {
      "text/plain": [
       "0    1024\n",
       "dtype: int64"
      ]
     },
     "execution_count": 98,
     "metadata": {},
     "output_type": "execute_result"
    }
   ],
   "source": [
    "df['task_runinfo__skip'].value_counts()"
   ]
  },
  {
   "cell_type": "code",
   "execution_count": 97,
   "metadata": {
    "collapsed": false
   },
   "outputs": [
    {
     "data": {
      "text/plain": [
       "-1    0.490234\n",
       " 1    0.369141\n",
       " 0    0.140625\n",
       "dtype: float64"
      ]
     },
     "execution_count": 97,
     "metadata": {},
     "output_type": "execute_result"
    }
   ],
   "source": [
    "df['task_runinfo__certain'].value_counts() / len(df)"
   ]
  },
  {
   "cell_type": "code",
   "execution_count": 134,
   "metadata": {
    "collapsed": false
   },
   "outputs": [],
   "source": [
    "df['task_run__created'] = pd.to_datetime(df['task_run__created'], unit='s')\n",
    "df['task_run__finish_time'] = pd.to_datetime(df['task_run__finish_time'], unit='s')"
   ]
  },
  {
   "cell_type": "code",
   "execution_count": 135,
   "metadata": {
    "collapsed": false
   },
   "outputs": [],
   "source": [
    "df['duration'] = (df['task_run__finish_time'] - df['task_run__created'])"
   ]
  },
  {
   "cell_type": "code",
   "execution_count": 165,
   "metadata": {
    "collapsed": false
   },
   "outputs": [],
   "source": [
    "f = (df['duration'][:957].astype('timedelta64[ns]') *1000000).astype('timedelta64[s]')"
   ]
  },
  {
   "cell_type": "code",
   "execution_count": 174,
   "metadata": {
    "collapsed": false
   },
   "outputs": [],
   "source": [
    "s = (df['duration'][957:].astype('timedelta64[s]') * 0.1)"
   ]
  },
  {
   "cell_type": "code",
   "execution_count": 182,
   "metadata": {
    "collapsed": true
   },
   "outputs": [],
   "source": [
    "import numpy as np"
   ]
  },
  {
   "cell_type": "code",
   "execution_count": 183,
   "metadata": {
    "collapsed": false
   },
   "outputs": [
    {
     "data": {
      "text/plain": [
       "32.0"
      ]
     },
     "execution_count": 183,
     "metadata": {},
     "output_type": "execute_result"
    }
   ],
   "source": [
    "np.sqrt(1024)"
   ]
  },
  {
   "cell_type": "code",
   "execution_count": 186,
   "metadata": {
    "collapsed": false
   },
   "outputs": [
    {
     "data": {
      "text/plain": [
       "count    1024.000000\n",
       "mean       20.970898\n",
       "std         7.842791\n",
       "min         2.400000\n",
       "25%        17.000000\n",
       "50%        20.000000\n",
       "75%        23.000000\n",
       "max        78.200000\n",
       "Name: duration, dtype: float64"
      ]
     },
     "execution_count": 186,
     "metadata": {},
     "output_type": "execute_result"
    }
   ],
   "source": [
    "pd.concat([f,s]).describe()"
   ]
  },
  {
   "cell_type": "code",
   "execution_count": 188,
   "metadata": {
    "collapsed": false
   },
   "outputs": [
    {
     "data": {
      "text/plain": [
       "<matplotlib.text.Text at 0x113312090>"
      ]
     },
     "execution_count": 188,
     "metadata": {},
     "output_type": "execute_result"
    },
    {
     "data": {
      "image/png": "[encoded data removed]",
      "text/plain": [
       "<matplotlib.figure.Figure at 0x112d28f10>"
      ]
     },
     "metadata": {},
     "output_type": "display_data"
    }
   ],
   "source": [
    "pd.concat([f,s]).hist(bins=32, zorder=3)\n",
    "plt.xlabel('Seconds')\n",
    "plt.ylabel('Count')\n",
    "plt.title('Distribution of Task Duration')"
   ]
  },
  {
   "cell_type": "code",
   "execution_count": 114,
   "metadata": {
    "collapsed": false
   },
   "outputs": [
    {
     "data": {
      "text/plain": [
       "count    1024.000000\n",
       "mean       14.455078\n",
       "std        68.571316\n",
       "min         0.000000\n",
       "25%         0.000000\n",
       "50%         0.000000\n",
       "75%         0.000000\n",
       "max       782.000000\n",
       "Name: duration, dtype: float64"
      ]
     },
     "execution_count": 114,
     "metadata": {},
     "output_type": "execute_result"
    }
   ],
   "source": [
    "df['duration'].describe()"
   ]
  },
  {
   "cell_type": "code",
   "execution_count": 124,
   "metadata": {
    "collapsed": false
   },
   "outputs": [
    {
     "data": {
      "text/plain": [
       "0    2014-04-11T18:02:24.062013\n",
       "1    2014-04-11T18:02:56.660769\n",
       "2    2014-04-11T18:03:09.583808\n",
       "3    2014-04-11T18:03:58.458477\n",
       "4    2014-04-11T18:03:58.556288\n",
       "Name: task_run__finish_time, dtype: object"
      ]
     },
     "execution_count": 124,
     "metadata": {},
     "output_type": "execute_result"
    }
   ],
   "source": [
    "df['task_run__finish_time'].head()"
   ]
  },
  {
   "cell_type": "code",
   "execution_count": 126,
   "metadata": {
    "collapsed": false
   },
   "outputs": [],
   "source": [
    "df.index = pd.to_datetime(df['task_run__created'], unit='ns')"
   ]
  },
  {
   "cell_type": "code",
   "execution_count": 132,
   "metadata": {
    "collapsed": false
   },
   "outputs": [
    {
     "data": {
      "text/plain": [
       "<matplotlib.axes._subplots.AxesSubplot at 0x110ead610>"
      ]
     },
     "execution_count": 132,
     "metadata": {},
     "output_type": "execute_result"
    },
    {
     "data": {
      "image/png": "[encoded data removed]",
      "text/plain": [
       "<matplotlib.figure.Figure at 0x110e95c90>"
      ]
     },
     "metadata": {},
     "output_type": "display_data"
    }
   ],
   "source": [
    "df['task_run__finish_time'].resample('H', how='count').plot()"
   ]
  },
  {
   "cell_type": "code",
   "execution_count": 117,
   "metadata": {
    "collapsed": false
   },
   "outputs": [
    {
     "data": {
      "text/plain": [
       "0         0\n",
       "1         0\n",
       "2         0\n",
       "3         0\n",
       "4         0\n",
       "5         0\n",
       "6         0\n",
       "7         0\n",
       "8         0\n",
       "9         0\n",
       "10        0\n",
       "11        0\n",
       "12        0\n",
       "13        0\n",
       "14        0\n",
       "15        0\n",
       "16        0\n",
       "17        0\n",
       "18        0\n",
       "19        0\n",
       "20        0\n",
       "21        0\n",
       "22        0\n",
       "23        0\n",
       "24        0\n",
       "25        0\n",
       "26        0\n",
       "27        0\n",
       "28        0\n",
       "29        0\n",
       "       ... \n",
       "994     285\n",
       "995      31\n",
       "996     276\n",
       "997     316\n",
       "998      80\n",
       "999     186\n",
       "1000    155\n",
       "1001    341\n",
       "1002    341\n",
       "1003     47\n",
       "1004    131\n",
       "1005    175\n",
       "1006     43\n",
       "1007    155\n",
       "1008    518\n",
       "1009    666\n",
       "1010    666\n",
       "1011    210\n",
       "1012    105\n",
       "1013    141\n",
       "1014    141\n",
       "1015    141\n",
       "1016    782\n",
       "1017    367\n",
       "1018    110\n",
       "1019     33\n",
       "1020    158\n",
       "1021    175\n",
       "1022    175\n",
       "1023     77\n",
       "Name: duration, dtype: float64"
      ]
     },
     "execution_count": 117,
     "metadata": {},
     "output_type": "execute_result"
    }
   ],
   "source": [
    "df['duration']"
   ]
  },
  {
   "cell_type": "code",
   "execution_count": 44,
   "metadata": {
    "collapsed": false
   },
   "outputs": [
    {
     "data": {
      "text/plain": [
       "175.0"
      ]
     },
     "execution_count": 44,
     "metadata": {},
     "output_type": "execute_result"
    }
   ],
   "source": [
    "l[l>0].median()"
   ]
  },
  {
   "cell_type": "code",
   "execution_count": 106,
   "metadata": {
    "collapsed": false
   },
   "outputs": [
    {
     "data": {
      "text/plain": [
       "<matplotlib.axes._subplots.AxesSubplot at 0x10f9234d0>"
      ]
     },
     "execution_count": 106,
     "metadata": {},
     "output_type": "execute_result"
    },
    {
     "data": {
      "image/png": "[encoded data removed]",
      "text/plain": [
       "<matplotlib.figure.Figure at 0x10fb5a110>"
      ]
     },
     "metadata": {},
     "output_type": "display_data"
    }
   ],
   "source": [
    "l[(l > 0) & (l < 500)].plot(kind='hist', bins=25)"
   ]
  },
  {
   "cell_type": "markdown",
   "metadata": {
    "collapsed": true
   },
   "source": [
    "## Task time"
   ]
  },
  {
   "cell_type": "code",
   "execution_count": 9,
   "metadata": {
    "collapsed": true
   },
   "outputs": [],
   "source": [
    "import as"
   ]
  },
  {
   "cell_type": "code",
   "execution_count": 60,
   "metadata": {
    "collapsed": false
   },
   "outputs": [
    {
     "name": "stderr",
     "output_type": "stream",
     "text": [
      "Skipping line 642: expected 20 fields, saw 21\n",
      "\n"
     ]
    }
   ],
   "source": [
    "data = pd.read_csv('../landfill_task_run.csv', error_bad_lines=False)"
   ]
  },
  {
   "cell_type": "code",
   "execution_count": 63,
   "metadata": {
    "collapsed": false
   },
   "outputs": [
    {
     "data": {
      "text/html": [
       "<div>\n",
       "<table border=\"1\" class=\"dataframe\">\n",
       "  <thead>\n",
       "    <tr style=\"text-align: right;\">\n",
       "      <th></th>\n",
       "      <th>task_run__calibration</th>\n",
       "      <th>task_run__created</th>\n",
       "      <th>task_run__finish_time</th>\n",
       "      <th>task_run__id</th>\n",
       "      <th>task_run__info</th>\n",
       "      <th>task_run__project_id</th>\n",
       "      <th>task_run__task_id</th>\n",
       "      <th>task_run__timeout</th>\n",
       "      <th>task_run__user_id</th>\n",
       "      <th>task_run__user_ip</th>\n",
       "      <th>task_runinfo__Days_Since_Last_Inspection</th>\n",
       "      <th>task_runinfo__Facility_Name</th>\n",
       "      <th>task_runinfo__Facility_State</th>\n",
       "      <th>task_runinfo__Facility_Street</th>\n",
       "      <th>task_runinfo__X_id</th>\n",
       "      <th>task_runinfo__area</th>\n",
       "      <th>task_runinfo__certain</th>\n",
       "      <th>task_runinfo__multiple</th>\n",
       "      <th>task_runinfo__skip</th>\n",
       "      <th>task_runinfo__task_id</th>\n",
       "    </tr>\n",
       "  </thead>\n",
       "  <tbody>\n",
       "    <tr>\n",
       "      <th>0</th>\n",
       "      <td>None</td>\n",
       "      <td>2014-04-11T18:02:24.061996</td>\n",
       "      <td>2014-04-11T18:02:24.062013</td>\n",
       "      <td>629898</td>\n",
       "      <td>{\"X_id\": \"ObjectID(52605256cdc3fd11fee7714c)\",...</td>\n",
       "      <td>1402</td>\n",
       "      <td>501701</td>\n",
       "      <td>None</td>\n",
       "      <td>4038</td>\n",
       "      <td>None</td>\n",
       "      <td>never</td>\n",
       "      <td>AMERICAN DISPOSAL INC</td>\n",
       "      <td>RI</td>\n",
       "      <td>23 GREEN HILL RD</td>\n",
       "      <td>ObjectID(52605256cdc3fd11fee7714c)</td>\n",
       "      <td>[{u'area': 74336.87923931186, u'id': u'OpenLay...</td>\n",
       "      <td>0</td>\n",
       "      <td>0</td>\n",
       "      <td>0</td>\n",
       "      <td>501701</td>\n",
       "    </tr>\n",
       "    <tr>\n",
       "      <th>1</th>\n",
       "      <td>None</td>\n",
       "      <td>2014-04-11T18:02:56.660754</td>\n",
       "      <td>2014-04-11T18:02:56.660769</td>\n",
       "      <td>629899</td>\n",
       "      <td>{\"X_id\": \"ObjectID(52605256cdc3fd11fee7714c)\",...</td>\n",
       "      <td>1402</td>\n",
       "      <td>501701</td>\n",
       "      <td>None</td>\n",
       "      <td>None</td>\n",
       "      <td>216.165.95.69</td>\n",
       "      <td>never</td>\n",
       "      <td>AMERICAN DISPOSAL INC</td>\n",
       "      <td>RI</td>\n",
       "      <td>23 GREEN HILL RD</td>\n",
       "      <td>ObjectID(52605256cdc3fd11fee7714c)</td>\n",
       "      <td>[{u'area': 8977.97979489246, u'id': u'OpenLaye...</td>\n",
       "      <td>-1</td>\n",
       "      <td>0</td>\n",
       "      <td>0</td>\n",
       "      <td>501701</td>\n",
       "    </tr>\n",
       "    <tr>\n",
       "      <th>2</th>\n",
       "      <td>None</td>\n",
       "      <td>2014-04-11T18:03:09.583790</td>\n",
       "      <td>2014-04-11T18:03:09.583808</td>\n",
       "      <td>629900</td>\n",
       "      <td>{\"X_id\": \"ObjectID(52605256cdc3fd11fee7714c)\",...</td>\n",
       "      <td>1402</td>\n",
       "      <td>501701</td>\n",
       "      <td>None</td>\n",
       "      <td>5</td>\n",
       "      <td>None</td>\n",
       "      <td>never</td>\n",
       "      <td>AMERICAN DISPOSAL INC</td>\n",
       "      <td>RI</td>\n",
       "      <td>23 GREEN HILL RD</td>\n",
       "      <td>ObjectID(52605256cdc3fd11fee7714c)</td>\n",
       "      <td>[{u'area': 1275812.2144902814, u'id': u'OpenLa...</td>\n",
       "      <td>1</td>\n",
       "      <td>0</td>\n",
       "      <td>0</td>\n",
       "      <td>501701</td>\n",
       "    </tr>\n",
       "    <tr>\n",
       "      <th>3</th>\n",
       "      <td>None</td>\n",
       "      <td>2014-04-11T18:03:18.873345</td>\n",
       "      <td>2014-04-11T18:03:18.873363</td>\n",
       "      <td>629901</td>\n",
       "      <td>{\"X_id\": \"ObjectID(52605256cdc3fd11fee7714d)\",...</td>\n",
       "      <td>1402</td>\n",
       "      <td>501702</td>\n",
       "      <td>None</td>\n",
       "      <td>None</td>\n",
       "      <td>216.165.95.69</td>\n",
       "      <td>3266</td>\n",
       "      <td>AMHERST LANDFILL - NEW</td>\n",
       "      <td>MA</td>\n",
       "      <td>740 BELCHERTOWN RD</td>\n",
       "      <td>ObjectID(52605256cdc3fd11fee7714d)</td>\n",
       "      <td>0</td>\n",
       "      <td>-1</td>\n",
       "      <td>0</td>\n",
       "      <td>1</td>\n",
       "      <td>501702</td>\n",
       "    </tr>\n",
       "    <tr>\n",
       "      <th>4</th>\n",
       "      <td>None</td>\n",
       "      <td>2014-04-11T18:03:37.599809</td>\n",
       "      <td>2014-04-11T18:03:37.599828</td>\n",
       "      <td>629902</td>\n",
       "      <td>{\"X_id\": \"ObjectID(52605256cdc3fd11fee7714c)\",...</td>\n",
       "      <td>1402</td>\n",
       "      <td>501701</td>\n",
       "      <td>None</td>\n",
       "      <td>4039</td>\n",
       "      <td>None</td>\n",
       "      <td>never</td>\n",
       "      <td>AMERICAN DISPOSAL INC</td>\n",
       "      <td>RI</td>\n",
       "      <td>23 GREEN HILL RD</td>\n",
       "      <td>ObjectID(52605256cdc3fd11fee7714c)</td>\n",
       "      <td>0</td>\n",
       "      <td>-1</td>\n",
       "      <td>0</td>\n",
       "      <td>1</td>\n",
       "      <td>501701</td>\n",
       "    </tr>\n",
       "  </tbody>\n",
       "</table>\n",
       "</div>"
      ],
      "text/plain": [
       "  task_run__calibration           task_run__created  \\\n",
       "0                  None  2014-04-11T18:02:24.061996   \n",
       "1                  None  2014-04-11T18:02:56.660754   \n",
       "2                  None  2014-04-11T18:03:09.583790   \n",
       "3                  None  2014-04-11T18:03:18.873345   \n",
       "4                  None  2014-04-11T18:03:37.599809   \n",
       "\n",
       "        task_run__finish_time  task_run__id  \\\n",
       "0  2014-04-11T18:02:24.062013        629898   \n",
       "1  2014-04-11T18:02:56.660769        629899   \n",
       "2  2014-04-11T18:03:09.583808        629900   \n",
       "3  2014-04-11T18:03:18.873363        629901   \n",
       "4  2014-04-11T18:03:37.599828        629902   \n",
       "\n",
       "                                      task_run__info  task_run__project_id  \\\n",
       "0  {\"X_id\": \"ObjectID(52605256cdc3fd11fee7714c)\",...                  1402   \n",
       "1  {\"X_id\": \"ObjectID(52605256cdc3fd11fee7714c)\",...                  1402   \n",
       "2  {\"X_id\": \"ObjectID(52605256cdc3fd11fee7714c)\",...                  1402   \n",
       "3  {\"X_id\": \"ObjectID(52605256cdc3fd11fee7714d)\",...                  1402   \n",
       "4  {\"X_id\": \"ObjectID(52605256cdc3fd11fee7714c)\",...                  1402   \n",
       "\n",
       "   task_run__task_id task_run__timeout task_run__user_id task_run__user_ip  \\\n",
       "0             501701              None              4038              None   \n",
       "1             501701              None              None     216.165.95.69   \n",
       "2             501701              None                 5              None   \n",
       "3             501702              None              None     216.165.95.69   \n",
       "4             501701              None              4039              None   \n",
       "\n",
       "  task_runinfo__Days_Since_Last_Inspection task_runinfo__Facility_Name  \\\n",
       "0                                    never       AMERICAN DISPOSAL INC   \n",
       "1                                    never       AMERICAN DISPOSAL INC   \n",
       "2                                    never       AMERICAN DISPOSAL INC   \n",
       "3                                     3266      AMHERST LANDFILL - NEW   \n",
       "4                                    never       AMERICAN DISPOSAL INC   \n",
       "\n",
       "  task_runinfo__Facility_State task_runinfo__Facility_Street  \\\n",
       "0                           RI              23 GREEN HILL RD   \n",
       "1                           RI              23 GREEN HILL RD   \n",
       "2                           RI              23 GREEN HILL RD   \n",
       "3                           MA            740 BELCHERTOWN RD   \n",
       "4                           RI              23 GREEN HILL RD   \n",
       "\n",
       "                   task_runinfo__X_id  \\\n",
       "0  ObjectID(52605256cdc3fd11fee7714c)   \n",
       "1  ObjectID(52605256cdc3fd11fee7714c)   \n",
       "2  ObjectID(52605256cdc3fd11fee7714c)   \n",
       "3  ObjectID(52605256cdc3fd11fee7714d)   \n",
       "4  ObjectID(52605256cdc3fd11fee7714c)   \n",
       "\n",
       "                                  task_runinfo__area  task_runinfo__certain  \\\n",
       "0  [{u'area': 74336.87923931186, u'id': u'OpenLay...                      0   \n",
       "1  [{u'area': 8977.97979489246, u'id': u'OpenLaye...                     -1   \n",
       "2  [{u'area': 1275812.2144902814, u'id': u'OpenLa...                      1   \n",
       "3                                                  0                     -1   \n",
       "4                                                  0                     -1   \n",
       "\n",
       "   task_runinfo__multiple  task_runinfo__skip  task_runinfo__task_id  \n",
       "0                       0                   0                 501701  \n",
       "1                       0                   0                 501701  \n",
       "2                       0                   0                 501701  \n",
       "3                       0                   1                 501702  \n",
       "4                       0                   1                 501701  "
      ]
     },
     "execution_count": 63,
     "metadata": {},
     "output_type": "execute_result"
    }
   ],
   "source": [
    "data.head()"
   ]
  },
  {
   "cell_type": "code",
   "execution_count": 68,
   "metadata": {
    "collapsed": false
   },
   "outputs": [],
   "source": [
    "data_res = {'skip':[], 'certain':[],'Days_Since_Last_Inspection':[], 'task_run_created':[],'task_run__finish_time':[]}\n",
    "def f(x):\n",
    "    #print x\n",
    "    a = ast.literal_eval(x['task_run__info'])\n",
    "    data_res['skip'].append(a['skip'])\n",
    "    data_res['certain'].append(a['certain'])\n",
    "    data_res['Days_Since_Last_Inspection'].append(a['Days_Since_Last_Inspection'])\n",
    "    data_res['task_run_created'].append(x['task_run__created'])\n",
    "    data_res['task_run__finish_time'].append(x['task_run__finish_time'])\n",
    "    #x['task_run__info'].map(lambda x: ast.literal_eval(x))"
   ]
  },
  {
   "cell_type": "code",
   "execution_count": 69,
   "metadata": {
    "collapsed": false,
    "scrolled": true
   },
   "outputs": [
    {
     "data": {
      "text/plain": [
       "0       None\n",
       "1       None\n",
       "2       None\n",
       "3       None\n",
       "4       None\n",
       "5       None\n",
       "6       None\n",
       "7       None\n",
       "8       None\n",
       "9       None\n",
       "10      None\n",
       "11      None\n",
       "12      None\n",
       "13      None\n",
       "14      None\n",
       "15      None\n",
       "16      None\n",
       "17      None\n",
       "18      None\n",
       "19      None\n",
       "20      None\n",
       "21      None\n",
       "22      None\n",
       "23      None\n",
       "24      None\n",
       "25      None\n",
       "26      None\n",
       "27      None\n",
       "28      None\n",
       "29      None\n",
       "        ... \n",
       "1852    None\n",
       "1853    None\n",
       "1854    None\n",
       "1855    None\n",
       "1856    None\n",
       "1857    None\n",
       "1858    None\n",
       "1859    None\n",
       "1860    None\n",
       "1861    None\n",
       "1862    None\n",
       "1863    None\n",
       "1864    None\n",
       "1865    None\n",
       "1866    None\n",
       "1867    None\n",
       "1868    None\n",
       "1869    None\n",
       "1870    None\n",
       "1871    None\n",
       "1872    None\n",
       "1873    None\n",
       "1874    None\n",
       "1875    None\n",
       "1876    None\n",
       "1877    None\n",
       "1878    None\n",
       "1879    None\n",
       "1880    None\n",
       "1881    None\n",
       "dtype: object"
      ]
     },
     "execution_count": 69,
     "metadata": {},
     "output_type": "execute_result"
    }
   ],
   "source": [
    "data.apply(f, axis=1)"
   ]
  },
  {
   "cell_type": "code",
   "execution_count": 97,
   "metadata": {
    "collapsed": false
   },
   "outputs": [],
   "source": [
    "results = pd.DataFrame(data_res)"
   ]
  },
  {
   "cell_type": "code",
   "execution_count": 99,
   "metadata": {
    "collapsed": false
   },
   "outputs": [],
   "source": [
    "results['task_run__finish_time'] = pd.to_datetime(results['task_run__finish_time'], unit='s')\n",
    "results['task_run_created'] = pd.to_datetime(results['task_run_created'], unit='s')\n",
    "\n",
    "results['duration'] = results['task_run__finish_time'] - results['task_run_created']"
   ]
  },
  {
   "cell_type": "code",
   "execution_count": 142,
   "metadata": {
    "collapsed": false
   },
   "outputs": [],
   "source": [
    "f = ((results['duration'][:1672].astype('timedelta64[ns]') *1000000)).astype('timedelta64[s]')"
   ]
  },
  {
   "cell_type": "code",
   "execution_count": 155,
   "metadata": {
    "collapsed": true
   },
   "outputs": [],
   "source": [
    "g = (results['duration'][1672:].astype('timedelta64[s]'))"
   ]
  },
  {
   "cell_type": "code",
   "execution_count": 162,
   "metadata": {
    "collapsed": false
   },
   "outputs": [],
   "source": [
    "f = (f*f *0.1)"
   ]
  },
  {
   "cell_type": "code",
   "execution_count": 163,
   "metadata": {
    "collapsed": false
   },
   "outputs": [],
   "source": [
    "duration = pd.concat([f,g], axis=0)"
   ]
  },
  {
   "cell_type": "code",
   "execution_count": 170,
   "metadata": {
    "collapsed": false
   },
   "outputs": [
    {
     "data": {
      "text/plain": [
       "<matplotlib.axes._subplots.AxesSubplot at 0x10dd18350>"
      ]
     },
     "execution_count": 170,
     "metadata": {},
     "output_type": "execute_result"
    },
    {
     "data": {
      "image/png": "[encoded data removed]",
      "text/plain": [
       "<matplotlib.figure.Figure at 0x10dbf8110>"
      ]
     },
     "metadata": {},
     "output_type": "display_data"
    }
   ],
   "source": [
    "((duration) /60).plot(kind='hist', bins=32)"
   ]
  },
  {
   "cell_type": "code",
   "execution_count": 172,
   "metadata": {
    "collapsed": false
   },
   "outputs": [],
   "source": [
    "results['duration_mod'] = duration"
   ]
  },
  {
   "cell_type": "code",
   "execution_count": 177,
   "metadata": {
    "collapsed": false
   },
   "outputs": [
    {
     "data": {
      "text/html": [
       "<div>\n",
       "<table border=\"1\" class=\"dataframe\">\n",
       "  <thead>\n",
       "    <tr style=\"text-align: right;\">\n",
       "      <th></th>\n",
       "      <th>Days_Since_Last_Inspection</th>\n",
       "      <th>certain</th>\n",
       "      <th>skip</th>\n",
       "      <th>task_run__finish_time</th>\n",
       "      <th>task_run_created</th>\n",
       "      <th>duration</th>\n",
       "      <th>duration_mod</th>\n",
       "    </tr>\n",
       "  </thead>\n",
       "  <tbody>\n",
       "    <tr>\n",
       "      <th>0</th>\n",
       "      <td>never</td>\n",
       "      <td>0</td>\n",
       "      <td>0</td>\n",
       "      <td>2014-04-11 18:02:24.062013</td>\n",
       "      <td>2014-04-11 18:02:24.061996</td>\n",
       "      <td>00:00:00.000017</td>\n",
       "      <td>28.9</td>\n",
       "    </tr>\n",
       "    <tr>\n",
       "      <th>1</th>\n",
       "      <td>never</td>\n",
       "      <td>-1</td>\n",
       "      <td>0</td>\n",
       "      <td>2014-04-11 18:02:56.660769</td>\n",
       "      <td>2014-04-11 18:02:56.660754</td>\n",
       "      <td>00:00:00.000015</td>\n",
       "      <td>22.5</td>\n",
       "    </tr>\n",
       "    <tr>\n",
       "      <th>2</th>\n",
       "      <td>never</td>\n",
       "      <td>1</td>\n",
       "      <td>0</td>\n",
       "      <td>2014-04-11 18:03:09.583808</td>\n",
       "      <td>2014-04-11 18:03:09.583790</td>\n",
       "      <td>00:00:00.000018</td>\n",
       "      <td>32.4</td>\n",
       "    </tr>\n",
       "    <tr>\n",
       "      <th>3</th>\n",
       "      <td>3266</td>\n",
       "      <td>-1</td>\n",
       "      <td>1</td>\n",
       "      <td>2014-04-11 18:03:18.873363</td>\n",
       "      <td>2014-04-11 18:03:18.873345</td>\n",
       "      <td>00:00:00.000018</td>\n",
       "      <td>32.4</td>\n",
       "    </tr>\n",
       "    <tr>\n",
       "      <th>4</th>\n",
       "      <td>never</td>\n",
       "      <td>-1</td>\n",
       "      <td>1</td>\n",
       "      <td>2014-04-11 18:03:37.599828</td>\n",
       "      <td>2014-04-11 18:03:37.599809</td>\n",
       "      <td>00:00:00.000019</td>\n",
       "      <td>36.1</td>\n",
       "    </tr>\n",
       "  </tbody>\n",
       "</table>\n",
       "</div>"
      ],
      "text/plain": [
       "  Days_Since_Last_Inspection certain skip      task_run__finish_time  \\\n",
       "0                      never       0    0 2014-04-11 18:02:24.062013   \n",
       "1                      never      -1    0 2014-04-11 18:02:56.660769   \n",
       "2                      never       1    0 2014-04-11 18:03:09.583808   \n",
       "3                       3266      -1    1 2014-04-11 18:03:18.873363   \n",
       "4                      never      -1    1 2014-04-11 18:03:37.599828   \n",
       "\n",
       "            task_run_created        duration  duration_mod  \n",
       "0 2014-04-11 18:02:24.061996 00:00:00.000017          28.9  \n",
       "1 2014-04-11 18:02:56.660754 00:00:00.000015          22.5  \n",
       "2 2014-04-11 18:03:09.583790 00:00:00.000018          32.4  \n",
       "3 2014-04-11 18:03:18.873345 00:00:00.000018          32.4  \n",
       "4 2014-04-11 18:03:37.599809 00:00:00.000019          36.1  "
      ]
     },
     "execution_count": 177,
     "metadata": {},
     "output_type": "execute_result"
    }
   ],
   "source": [
    "results.head()"
   ]
  },
  {
   "cell_type": "code",
   "execution_count": 239,
   "metadata": {
    "collapsed": false
   },
   "outputs": [
    {
     "data": {
      "text/plain": [
       "40.0"
      ]
     },
     "execution_count": 239,
     "metadata": {},
     "output_type": "execute_result"
    }
   ],
   "source": [
    "results['duration_mod'].median()"
   ]
  },
  {
   "cell_type": "code",
   "execution_count": 315,
   "metadata": {
    "collapsed": false
   },
   "outputs": [
    {
     "data": {
      "text/plain": [
       "28.875166666666662"
      ]
     },
     "execution_count": 315,
     "metadata": {},
     "output_type": "execute_result"
    }
   ],
   "source": [
    "(results['duration_mod']/60).sum() /60"
   ]
  },
  {
   "cell_type": "code",
   "execution_count": 350,
   "metadata": {
    "collapsed": false
   },
   "outputs": [
    {
     "data": {
      "image/png": "[encoded data removed]",
      "text/plain": [
       "<matplotlib.figure.Figure at 0x1161bae10>"
      ]
     },
     "metadata": {},
     "output_type": "display_data"
    }
   ],
   "source": [
    "fig, axes = plt.subplots(nrows=1, ncols=2, figsize=(8,4))\n",
    "\n",
    "data = pd.read_csv('../landfill_task_run.csv', error_bad_lines=False)\n",
    "k = data[data['task_run__user_id'] != 'None']['task_run__user_id'].value_counts()\n",
    "j = data[data['task_run__user_ip'] != 'None']['task_run__user_ip'].value_counts()\n",
    "t = pd.concat([k,j], axis=0).order(ascending=False)\n",
    "\n",
    "(results['duration_mod']/60).plot(kind='hist',bins=100, xlim=(0,5), zorder=3, fontsize=12, ax=axes[1])\n",
    "axes[1].grid()\n",
    "axes[1].set_xlabel('Time in Minutes', fontsize=12)\n",
    "axes[1].set_ylabel('Count', fontsize=12)\n",
    "\n",
    "t.reset_index()[0].plot(ax=axes[0], logy=True, logx=True, fontsize=12)\n",
    "\n",
    "axes[0].set_ylabel('# of Tasks Submitted', fontsize=12)\n",
    "axes[0].set_xlabel('Users', fontsize=12)\n",
    "axes[0].grid(which='both')\n",
    "fig.tight_layout(pad=3)\n",
    "\n",
    "axes[0].annotate('A', xy=(0.05,1.02), xycoords='axes fraction', \n",
    "                 horizontalalignment='left', fontsize=14)    \n",
    "axes[1].annotate('B', xy=(0.05,1.02), xycoords='axes fraction', \n",
    "                 horizontalalignment='left', fontsize=14)    \n",
    "plt.savefig('/Users/Gioia/Dropbox/LandfillHunter/participation.pdf', dpi=300, bbox_inches='tight')"
   ]
  },
  {
   "cell_type": "code",
   "execution_count": 204,
   "metadata": {
    "collapsed": false
   },
   "outputs": [
    {
     "data": {
      "text/plain": [
       "<matplotlib.text.Text at 0x1103ff150>"
      ]
     },
     "execution_count": 204,
     "metadata": {},
     "output_type": "execute_result"
    },
    {
     "data": {
      "image/png": "[encoded data removed]",
      "text/plain": [
       "<matplotlib.figure.Figure at 0x10f130c10>"
      ]
     },
     "metadata": {},
     "output_type": "display_data"
    }
   ],
   "source": [
    "rs = (pd.DataFrame(gdf)).T\n",
    "rs.columns = ['No Response','Not Certain','Very Certain']\n",
    "rs.plot(kind='box', logy=True)\n",
    "plt.ylabel('Duration in Seconds')"
   ]
  },
  {
   "cell_type": "code",
   "execution_count": 206,
   "metadata": {
    "collapsed": false
   },
   "outputs": [
    {
     "name": "stdout",
     "output_type": "stream",
     "text": [
      "0\n",
      "1\n"
     ]
    },
    {
     "data": {
      "text/plain": [
       "<matplotlib.text.Text at 0x110a8db10>"
      ]
     },
     "execution_count": 206,
     "metadata": {},
     "output_type": "execute_result"
    },
    {
     "data": {
      "image/png": "[encoded data removed]",
      "text/plain": [
       "<matplotlib.figure.Figure at 0x1103c5d10>"
      ]
     },
     "metadata": {},
     "output_type": "display_data"
    }
   ],
   "source": [
    "skip = []\n",
    "\n",
    "for ind, val in results.groupby('skip')['duration_mod']:\n",
    "    print ind\n",
    "    skip.append(val)\n",
    "    \n",
    "rsk = (pd.DataFrame(skip)).T\n",
    "rsk.columns = ['Non-skipped Task','Skipped Task']\n",
    "rsk.plot(kind='box', logy=True)\n",
    "plt.ylabel('Duration in Seconds')    "
   ]
  },
  {
   "cell_type": "code",
   "execution_count": 216,
   "metadata": {
    "collapsed": false
   },
   "outputs": [
    {
     "name": "stdout",
     "output_type": "stream",
     "text": [
      "-1\n",
      "1357.56756757\n",
      "0\n",
      "1538.96551724\n",
      "1\n",
      "1563.71328671\n"
     ]
    }
   ],
   "source": [
    "for ind, val in results.groupby('certain')['Days_Since_Last_Inspection']:\n",
    "    print ind\n",
    "    def g(x):\n",
    "        try:\n",
    "            return int(x)\n",
    "        except:\n",
    "            return 0\n",
    "    print val.map(g).mean()\n"
   ]
  }
 ],
 "metadata": {
  "kernelspec": {
   "display_name": "Python 2",
   "language": "python",
   "name": "python2"
  },
  "language_info": {
   "codemirror_mode": {
    "name": "ipython",
    "version": 2
   },
   "file_extension": ".py",
   "mimetype": "text/x-python",
   "name": "python",
   "nbconvert_exporter": "python",
   "pygments_lexer": "ipython2",
   "version": "2.7.10"
  }
 },
 "nbformat": 4,
 "nbformat_minor": 0
}
