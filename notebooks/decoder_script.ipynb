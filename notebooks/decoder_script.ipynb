{
 "cells": [
  {
   "cell_type": "code",
   "execution_count": 2,
   "metadata": {
    "collapsed": true
   },
   "outputs": [],
   "source": [
    "import urllib2\n",
    "import os\n",
    "import zipfile\n",
    "import pandas as pd\n",
    "import json\n",
    "import ast"
   ]
  },
  {
   "cell_type": "code",
   "execution_count": null,
   "metadata": {
    "collapsed": true
   },
   "outputs": [],
   "source": [
    "# download data\n",
    "def retrieveData():\n",
    "    url = 'http://crowdcrafting.org/project/landfill/tasks/export?type=task_run&format=csv'\n",
    "    response = urllib2.urlopen(url)\n",
    "    output = open('landfill_data.zip', 'wb')\n",
    "    output.write(response.read())\n",
    "    output.close()    \n",
    "    return unzip()\n",
    "\n",
    "def unzip():\n",
    "    fh = open('landfill_data.zip', 'rb')\n",
    "    z = zipfile.ZipFile(fh)\n",
    "    for name in z.namelist():\n",
    "        outpath = \"\"\n",
    "        z.extract(name, outpath)\n",
    "    fh.close()\n",
    "    os.remove('landfill_data.zip')\n",
    "    \n",
    "    return load_data(name)"
   ]
  },
  {
   "cell_type": "code",
   "execution_count": 3,
   "metadata": {
    "collapsed": false
   },
   "outputs": [
    {
     "name": "stderr",
     "output_type": "stream",
     "text": [
      "Skipping line 642: expected 20 fields, saw 21\n",
      "\n"
     ]
    }
   ],
   "source": [
    "data = pd.read_csv('../landfill_task_run.csv', error_bad_lines=False)"
   ]
  },
  {
   "cell_type": "code",
   "execution_count": 150,
   "metadata": {
    "collapsed": false
   },
   "outputs": [],
   "source": [
    "def create_feature(data):\n",
    "    record = data[0]\n",
    "    if record != '0':\n",
    "        record = ast.literal_eval(record)\n",
    "        \n",
    "        # loop through records if there are multiple\n",
    "        for i in record:\n",
    "            geometry = ast.literal_eval(i['area_geometry'])\n",
    "            result = {\n",
    "                \"type\": \"Feature\",\n",
    "                \"geometry\": geometry,\n",
    "                \"properties\": {\n",
    "                    \"area\" : i['area'], \n",
    "                    \"id\" : i['id'], \n",
    "                    \"fac_name\" : data[1],\n",
    "                    \"fac_state\" : data[2],\n",
    "                    \"fac_street\" : data[3],\n",
    "                    \"task_id\" : data[4],\n",
    "                    \"task_user_id\" : data[5],\n",
    "                    \"task_runinfo__skip\" : data[6],\n",
    "                }\n",
    "            }\n",
    "    else:\n",
    "        result = {\n",
    "            \"type\": \"Feature\",\n",
    "            \"geometry\": None,\n",
    "            \"properties\": {\n",
    "                \"area\" : 0,\n",
    "                \"id\" : None,\n",
    "                \"fac_name\" : data[1],\n",
    "                \"fac_state\" : data[2],\n",
    "                \"fac_street\" : data[3],\n",
    "                \"task_id\" : data[4],\n",
    "                \"task_user_id\" : data[5],\n",
    "                \"task_runinfo__skip\" : data[6],\n",
    "            }\n",
    "        }\n",
    "    \n",
    "    return result"
   ]
  },
  {
   "cell_type": "code",
   "execution_count": 151,
   "metadata": {
    "collapsed": false
   },
   "outputs": [],
   "source": [
    "#a stupid hack\n",
    "temp = zip(\n",
    "            list(data['task_runinfo__area']),\n",
    "            list(data['task_runinfo__Facility_Name']),\n",
    "            list(data['task_runinfo__Facility_State']),\n",
    "            list(data['task_runinfo__Facility_Street']),\n",
    "            list(data['task_run__task_id']),\n",
    "            list(data['task_run__user_id']),\n",
    "            list(data['task_runinfo__skip']),    \n",
    "          )\n",
    "\n",
    "features = list(map(create_feature, temp))\n",
    "geojson = json.dumps({\n",
    "    \"type\": \"FeatureCollection\",\n",
    "    \"features\": features,\n",
    "})"
   ]
  },
  {
   "cell_type": "code",
   "execution_count": 154,
   "metadata": {
    "collapsed": true
   },
   "outputs": [],
   "source": [
    "def writeFile(geojson):\n",
    "    print \"Writing geojson file...\"\n",
    "    outputFile = open('../landfill_geojson.geojson', 'wb')\n",
    "    outputFile.write(geojson)\n",
    "    outputFile.close()"
   ]
  },
  {
   "cell_type": "code",
   "execution_count": 155,
   "metadata": {
    "collapsed": false
   },
   "outputs": [
    {
     "name": "stdout",
     "output_type": "stream",
     "text": [
      "Writing geojson file...\n"
     ]
    }
   ],
   "source": [
    "writeFile(geojson)"
   ]
  }
 ],
 "metadata": {
  "kernelspec": {
   "display_name": "Python 2",
   "language": "python",
   "name": "python2"
  },
  "language_info": {
   "codemirror_mode": {
    "name": "ipython",
    "version": 2
   },
   "file_extension": ".py",
   "mimetype": "text/x-python",
   "name": "python",
   "nbconvert_exporter": "python",
   "pygments_lexer": "ipython2",
   "version": "2.7.10"
  }
 },
 "nbformat": 4,
 "nbformat_minor": 0
}
